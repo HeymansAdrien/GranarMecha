{
 "cells": [
  {
   "cell_type": "markdown",
   "metadata": {},
   "source": [
    "# Estimation of hydraulic propeties using moddeling tools\n",
    "\n",
    "### Project GRANAR - MECHA\n",
    "\n",
    "To mesure the root hydraulic conductivities, experimental procedures are rather challenging and time consuming. Here is a srcipt that assembles the Generator of Root Anatomy in R [GRANAR](https://granar.github.io/) and the Model of Explicit Cross-section Hydraulic Architecture [MECHA](https://mecharoot.github.io/).\n",
    "Together it is possible to generate a root cross-section and estimates its hydraulic properties, such as: it's radial hydraulic conductivity (kr) and the axial hydraulic conductance (kx). A few maturation senario are implemented inside the model to mirror the different apoplastic barrier developpement along the root axis. \n",
    "\n",
    "## GRANAR:\n",
    "Upon a small set of anatomical features the GRANAR model is able to reconstruct a generic root cell network for mono and dicotyledon.\n",
    "\n",
    "Change kernel to R to launch the following script.\n"
   ]
  },
  {
   "cell_type": "code",
   "execution_count": null,
   "metadata": {},
   "outputs": [],
   "source": [
    "install.packages(\"deldir\")\n",
    "install.packages(\"sp\")\n",
    "install.packages(\"xml2\")\n",
    "install.packages(\"plyr\")\n",
    "install.packages(\"viridis\")"
   ]
  },
  {
   "cell_type": "code",
   "execution_count": 2,
   "metadata": {},
   "outputs": [],
   "source": [
    "library(tidyverse)\n",
    "library(plyr)\n",
    "library(deldir)\n",
    "library(sp)\n",
    "library(xml2)\n",
    "library(viridis)\n",
    "\n",
    "source(\"./GRANAR/R/granar.R\")"
   ]
  },
  {
   "cell_type": "code",
   "execution_count": null,
   "metadata": {},
   "outputs": [],
   "source": [
    "params <- read_param_xml(\"GRANAR/model_params/Zea_mays_1_Heymans_2019.xml\")\n",
    "sim <- create_anatomy(parameters = params, verbatim=T)\n"
   ]
  },
  {
   "cell_type": "code",
   "execution_count": null,
   "metadata": {},
   "outputs": [],
   "source": [
    "plot_anatomy(sim, col = \"segment\", apo_bar = 0)\n",
    "plot_anatomy(sim, col = \"segment\", apo_bar = 1)\n",
    "plot_anatomy(sim, col = \"segment\", apo_bar = 3)"
   ]
  },
  {
   "cell_type": "code",
   "execution_count": null,
   "metadata": {},
   "outputs": [],
   "source": [
    "write_anatomy_xml(sim, \"./MECHA/cellsetdata/current_root.xml\")"
   ]
  },
  {
   "cell_type": "markdown",
   "metadata": {},
   "source": [
    "## MECHA:\n",
    "Upon this generated cross-section and the cell hydraulic properties defined in Hydraulic.xml\n",
    "MECHA estimates the radial hydraulic conductivities (for three scenarios: 1 = no apoplastic barriers, 2 = a endodermal casparian strip, 3 = fully suberized endodermis and a casparian strip on the exodermis.\n",
    "\n",
    "Change kernel to Python to launch the following script."
   ]
  },
  {
   "cell_type": "code",
   "execution_count": null,
   "metadata": {},
   "outputs": [],
   "source": [
    "./MECHAv4_ligth.py"
   ]
  }
 ],
 "metadata": {
  "kernelspec": {
   "display_name": "Python 3",
   "language": "python",
   "name": "python3"
  },
  "language_info": {
   "codemirror_mode": {
    "name": "ipython",
    "version": 3
   },
   "file_extension": ".py",
   "mimetype": "text/x-python",
   "name": "python",
   "nbconvert_exporter": "python",
   "pygments_lexer": "ipython3",
   "version": "3.7.3"
  }
 },
 "nbformat": 4,
 "nbformat_minor": 4
}
