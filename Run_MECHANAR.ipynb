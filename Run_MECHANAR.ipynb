{
 "cells": [
  {
   "cell_type": "markdown",
   "metadata": {},
   "source": [
    "# Estimation of hydraulic propeties using moddeling tools\n",
    "\n",
    "### Project GRANAR - MECHA\n",
    "\n",
    "To mesure the root hydraulic conductivities, experimental procedures are rather challenging and time consuming. Here is a srcipt that assembles the Generator of Root Anatomy in R [GRANAR](https://granar.github.io/) and the Model of Explicit Cross-section Hydraulic Architecture [MECHA](https://mecharoot.github.io/).\n",
    "Together it is possible to generate a root cross-section and estimates its hydraulic properties, such as: it's radial hydraulic conductivity (kr) and the axial hydraulic conductance (kx). A few maturation senario are implemented inside the model to mirror the different apoplastic barrier developpement along the root axis. \n",
    "\n",
    "## GRANAR:\n",
    "Upon a small set of anatomical features the GRANAR model is able to reconstruct a generic root cell network for mono and dicotyledon.\n",
    "\n",
    "Change kernel to R to launch the following script.\n"
   ]
  },
  {
   "cell_type": "code",
   "execution_count": 2,
   "metadata": {},
   "outputs": [],
   "source": [
    "# Loading R library\n",
    "library(tidyverse)\n",
    "library(plyr)\n",
    "library(deldir)\n",
    "library(sp)\n",
    "library(xml2)\n",
    "library(viridis)\n",
    "\n",
    "source(\"./GRANAR/R/granar.R\")"
   ]
  },
  {
   "cell_type": "code",
   "execution_count": null,
   "metadata": {},
   "outputs": [],
   "source": [
    "# Load one parameter file for GRANAR\n",
    "params <- read_param_xml(\"GRANAR/model_params/Zea_mays_1_Heymans_2019.xml\")\n",
    "\n",
    " # # # # # # # # # # # # # # #\n",
    "#  To change paramter value   #\n",
    " # # # # # # # # # # # # # # #\n",
    "    \n",
    "# Xylem size (diameter)\n",
    "params$value[params$type == \"max_size\" & params$name == \"xylem\"] <- 0.043\n",
    "\n",
    "# aerenchyma proportion\n",
    "params$value[params$type == \"proportion\" & params$name == \"aerenchyma\"] <- 0.2\n",
    "# number of lacuna\n",
    "params$value[params$type == \"n_files\" & params$name == \"aerenchyma\"] <- 15\n",
    "\n",
    "# Generate the anatomy\n",
    "sim <- create_anatomy(parameters = params, verbatim=T, paraview = F)\n",
    "# sim is a list\n",
    "# sim$nodes is a data frame with most of the information\n",
    "# sim$output is a data frame with summarize anatomical features"
   ]
  },
  {
   "cell_type": "code",
   "execution_count": null,
   "metadata": {},
   "outputs": [],
   "source": [
    "# To visualize the anatomy and the scenario that are going to be tested.\n",
    "# you can use the plot_anatomy function.\n",
    "plot_anatomy(sim, col = \"segment\", apo_bar = 1)\n",
    "plot_anatomy(sim, col = \"segment\", apo_bar = 2)\n",
    "plot_anatomy(sim, col = \"segment\", apo_bar = 3)\n",
    "\n",
    "# To visualize cell type:\n",
    "plot_anatomy(sim) # default type"
   ]
  },
  {
   "cell_type": "code",
   "execution_count": null,
   "metadata": {},
   "outputs": [],
   "source": [
    "# write geometry\n",
    "write_anatomy_xml(sim, \"./MECHA/cellsetdata/current_root.xml\")\n",
    "# give explicit location of root lacuna in geometry\n",
    "aer_in_geom_xml(sim, path = \"./MECHA/Projects/granar/in/Maize_Geometry.xml\")"
   ]
  },
  {
   "cell_type": "code",
   "execution_count": null,
   "metadata": {},
   "outputs": [],
   "source": [
    "# hydraulic conductivity of standard walls\n",
    "kw = 2.4E-4 # [cm^2/hPa/d] Zhu and Steudle (1991)\n",
    "\n",
    "# Cell membrane permeability, with separate contribution of the biphospholipid layer (km) and AQP (kAQP)\n",
    "km = 3.0E-5 # [cm/hPa/d]  after removal of kAQP and kpl from Elhert et al. (2009) and Bret-Hart and Silk (1994)\n",
    "kAQP = 4.3E-4 # [cm/hPa/d] uniformly distributed on each cell layer\n",
    "\n",
    "# Individual plasmodesma conductance\n",
    "kpl = 5.3E-12 #  [cm^3/hPa/d/plasmodesmata] Geometrical average from Bret-Hart and Silk (1994)\n",
    "\n",
    "# change cell hydraulic properties\n",
    "microhydro(path = \"MECHA/Projects/granar/in/Maize_Hydraulics.xml\",\n",
    "           kw, km, kAQP, kpl)"
   ]
  },
  {
   "cell_type": "markdown",
   "metadata": {},
   "source": [
    "## MECHA:\n",
    "Upon this generated cross-section and the cell hydraulic properties defined in Hydraulic.xml\n",
    "MECHA estimates the radial hydraulic conductivities (for three scenarios: 1 = an endodermal casparian strip, 2 = a fully suberized endodermis, 3 = fully suberized endodermis and a casparian strip on the exodermis.\n",
    "\n",
    "Change kernel to Python to launch the following script. Once the kernel is changed, all variables stored in R are gone."
   ]
  },
  {
   "cell_type": "code",
   "execution_count": null,
   "metadata": {},
   "outputs": [],
   "source": [
    "from mecha_function import *\n",
    "\n",
    "mecha()"
   ]
  },
  {
   "cell_type": "markdown",
   "metadata": {},
   "source": [
    "This last script cell might take a 2 to 5 min to run and gives the estimated hydraulic properties.\n",
    "\n",
    "To visualize the results change again the kernel to R. Sorry about that, my python skills are not that good.\n"
   ]
  },
  {
   "cell_type": "code",
   "execution_count": null,
   "metadata": {},
   "outputs": [],
   "source": [
    "# Loading again the R library\n",
    "library(tidyverse)\n",
    "library(plyr)\n",
    "library(deldir)\n",
    "library(sp)\n",
    "library(xml2)\n",
    "library(viridis)\n",
    "\n",
    "source(\"./GRANAR/R/granar.R\")"
   ]
  },
  {
   "cell_type": "markdown",
   "metadata": {},
   "source": [
    "Upload MECHA output "
   ]
  },
  {
   "cell_type": "code",
   "execution_count": null,
   "metadata": {},
   "outputs": [],
   "source": [
    "Flux1 <- ApoSymp(\"MECHA/Projects/granar/out/Root/Project_Test/baseline/Macro_prop_1,0.txt\")\n",
    "Flux2 <- ApoSymp(\"MECHA/Projects/granar/out/Root/Project_Test/baseline/Macro_prop_2,1.txt\")\n",
    "Flux3 <- ApoSymp(\"MECHA/Projects/granar/out/Root/Project_Test/baseline/Macro_prop_4,2.txt\")"
   ]
  },
  {
   "cell_type": "markdown",
   "metadata": {},
   "source": [
    "Plot the results to see the symplastic water fluxes (in blue) and the apoplastic fluxes (in light brown). The sum of the two water fluxes equals to the total water fluxes. Once the water is in the stele, the water is being lifted by the xylem poles."
   ]
  },
  {
   "cell_type": "code",
   "execution_count": null,
   "metadata": {},
   "outputs": [],
   "source": [
    "plot_water_flux(Flux1)\n",
    "plot_water_flux(Flux2)\n",
    "plot_water_flux(Flux3)"
   ]
  }
 ],
 "metadata": {
  "kernelspec": {
   "display_name": "Python 3",
   "language": "python",
   "name": "python3"
  },
  "language_info": {
   "codemirror_mode": {
    "name": "ipython",
    "version": 3
   },
   "file_extension": ".py",
   "mimetype": "text/x-python",
   "name": "python",
   "nbconvert_exporter": "python",
   "pygments_lexer": "ipython3",
   "version": "3.7.3"
  }
 },
 "nbformat": 4,
 "nbformat_minor": 4
}
